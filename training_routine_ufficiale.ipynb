{
  "cells": [
    {
      "cell_type": "markdown",
      "metadata": {
        "id": "view-in-github",
        "colab_type": "text"
      },
      "source": [
        "<a href=\"https://colab.research.google.com/github/AnastasiaBrinati/Calcolatrice21-22/blob/master/training_routine_ufficiale.ipynb\" target=\"_parent\"><img src=\"https://colab.research.google.com/assets/colab-badge.svg\" alt=\"Open In Colab\"/></a>"
      ]
    },
    {
      "cell_type": "code",
      "execution_count": null,
      "metadata": {
        "id": "Dn_vjC4iSuRW"
      },
      "outputs": [],
      "source": [
        "from google.colab import drive\n",
        "drive.mount('/content/drive')"
      ]
    },
    {
      "cell_type": "code",
      "execution_count": null,
      "metadata": {
        "id": "fTRrYnQDTEMh"
      },
      "outputs": [],
      "source": [
        "%cd /content/drive/My\\ Drive/ProgettoMOBD"
      ]
    },
    {
      "cell_type": "code",
      "execution_count": 4,
      "metadata": {
        "id": "xsl9cpj0TdP-"
      },
      "outputs": [],
      "source": [
        "import sklearn\n",
        "import pandas as pd\n",
        "import numpy as np\n",
        "\n",
        "from numpy import array\n",
        "from sklearn.model_selection import train_test_split, GridSearchCV\n",
        "from sklearn.experimental import enable_iterative_imputer\n",
        "from sklearn_pandas import CategoricalImputer\n",
        "from sklearn.preprocessing import OneHotEncoder\n",
        "from sklearn.model_selection import KFold\n",
        "from sklearn.ensemble import IsolationForest, RandomForestClassifier, GradientBoostingClassifier, AdaBoostClassifier\n",
        "from sklearn.impute import SimpleImputer, IterativeImputer, KNNImputer\n",
        "from sklearn.preprocessing import StandardScaler, MinMaxScaler, MaxAbsScaler, RobustScaler\n",
        "from imblearn.under_sampling import RandomUnderSampler, ClusterCentroids\n",
        "from imblearn.over_sampling import SVMSMOTE\n",
        "from imblearn.over_sampling import ADASYN\n",
        "from imblearn.over_sampling import KMeansSMOTE\n",
        "from imblearn.over_sampling import RandomOverSampler, SMOTE\n",
        "from sklearn.tree import DecisionTreeClassifier,export_graphviz\n",
        "from sklearn import tree\n",
        "\n",
        "#serialization\n",
        "from joblib import dump\n",
        "from sklearn.pipeline import Pipeline\n",
        "import pickle\n",
        "import dill\n",
        "\n",
        "#graphs\n",
        "import graphviz\n",
        "import matplotlib.pyplot as plt\n",
        "\n",
        "#evaluation\n",
        "from sklearn.metrics import accuracy_score, confusion_matrix, precision_score, recall_score, f1_score\n",
        "\n",
        "np.random.seed = 123457"
      ]
    },
    {
      "cell_type": "code",
      "source": [
        "# LETTURA DATASET\n",
        "data = pd.read_csv(\"train.csv\", sep=\",\")\n",
        "print(data.head())"
      ],
      "metadata": {
        "id": "5rtKZCsmZ_9y"
      },
      "execution_count": null,
      "outputs": []
    },
    {
      "cell_type": "code",
      "execution_count": null,
      "metadata": {
        "id": "2AaafCLmf8zf"
      },
      "outputs": [],
      "source": [
        "# print(\"\\nLabels: {}\".format(np.unique(data.Y, return_counts=True)))\n",
        "# print(\"\\n# of NaNs values for each column:\")\n",
        "# print(data.isnull().sum(axis=0))\n",
        "\n",
        "# dropping nan values: lowers the performance of circa 10%\n",
        "# data = data.dropna()\n",
        "\n",
        "x = data.iloc[:, :-1].to_numpy()\n",
        "y = data.iloc[:, -1].to_numpy()\n",
        "# print(x.shape)\n",
        "# print(y.shape)\n",
        "\n",
        "# stratify: to mantain the same mean as y for y_tr and y_ts\n",
        "x_tr, x_ts, y_tr, y_ts = train_test_split(x, y, test_size=0.24, random_state=258, stratify=y)\n",
        "\n",
        "print(np.unique(y, return_counts=True)[1]/len(y))\n",
        "print(np.unique(y_tr, return_counts=True)[1]/len(y_tr))\n",
        "print(np.unique(y_ts, return_counts=True)[1]/len(y_ts))"
      ]
    },
    {
      "cell_type": "code",
      "execution_count": 77,
      "metadata": {
        "id": "ElFagyJWi2cN"
      },
      "outputs": [],
      "source": [
        "# sostituzione valori nan: dato che sono presenti valori categorici, e nello specifico sono proprio\n",
        "# tre colonne di quel tipo ad avere valori mancanti, abbiamo optato per un semplice Imputer \n",
        "# che sostituisse con i più frequenti.\n",
        "\n",
        "imputer = SimpleImputer(missing_values=np.nan, strategy = 'most_frequent')\n",
        "x_tr_notnan = imputer.fit_transform(x_tr)\n",
        "# la sostituzione sul test set avviene con il most_frequent calcolato sul training set\n",
        "x_ts_notnan = imputer.transform(x_ts)"
      ]
    },
    {
      "cell_type": "code",
      "source": [
        "# one hot code: stiamo rimpiazzando ogni colonna corrispondente ad un attributo categorico\n",
        "# con un set di colonne della cardinalità del range dell'attributo in questione, \n",
        "# a ciascuna delle quali corrisponde appunto un elemento nel dominio dell'attributo, ed ogni tupla\n",
        "# del set avrà, corrispondentemente a queste nuove colonne inserite, valore 1 su quella\n",
        "# rispettiva al valore che si ha nel set originale, e zero per tutte le altre\n",
        "# esempio: \n",
        "#          ..| Fi | ..  ---> ..| K1 | .. | Ki | .. | Kn |..\n",
        "#          ..| Ki | ..  ---> ..| 0  | .. | 1  | .. | 0  |..\n",
        "\n",
        "\n",
        "# ripetiamo questa operazione sia sul training set che sul test set\n",
        "\n",
        "class MyEncoder:\n",
        "  def __init__(self, training_set):\n",
        "    self.df_training = training_set\n",
        "  def one_hot_encoding(self, df):\n",
        "    df = pd.DataFrame(df)\n",
        "    df.columns=['F0','F1','F2','F3','F4','F5','F6','F7','F8','F9','F10','F11','F12','F13']\n",
        "    df['F13'] = df['F13'].replace(['Caribbean','Cuba','Canada','Guatemala','Honduras'],'USA')\n",
        "    df['F13'] = df['F13'].replace(['Jamaica','Puerto-Rico','Mexico','South','Dominican-Republic','Haiti','Columbia','Ecuador','Peru','Nicaragua','El-Salvador','Cambodia','China','Hong','India','Iran','Japan','Philippines','Taiwan','Vietnam','Thailand','Laos','England','France','Germany','Greece','Hungary','Ireland','Italy','Netherlands','Poland','Portugal','Scotland','Yugoslavia'],'non-USA')\n",
        "    df['F3'] = df['F4']\n",
        "    df['F8'] = df['F8'].replace(['black','asian','other','american'],'non-caucasian')\n",
        "    #encoding\n",
        "    final_df = pd.concat([df,pd.get_dummies(df['F1'])],axis = 1)\n",
        "    final_df.drop('F1', axis=1, inplace=True)\n",
        "    #final_df = pd.concat([final_df,pd.get_dummies(df['F7'])],axis = 1)\n",
        "    final_df.drop('F7', axis=1, inplace=True)\n",
        "    final_df = pd.concat([final_df,pd.get_dummies(df['F9'])],axis = 1)\n",
        "    final_df.drop('F9', axis=1, inplace=True)\n",
        "    final_df = pd.concat([final_df,pd.get_dummies(df['F8'])],axis = 1)\n",
        "    final_df.drop('F8', axis=1, inplace=True)\n",
        "    final_df = pd.concat([final_df,pd.get_dummies(df['F5'])],axis = 1)\n",
        "    final_df.drop('F5', axis=1, inplace=True)\n",
        "    final_df = pd.concat([final_df,pd.get_dummies(df['F6'])],axis = 1)\n",
        "    final_df.drop('F6', axis=1, inplace=True)\n",
        "    final_df = pd.concat([final_df,pd.get_dummies(df['F13'])],axis = 1)\n",
        "    final_df.drop('F13', axis=1, inplace=True)\n",
        "    return  final_df\n",
        "  def align(self, test_set):\n",
        "    x_tr_alligned, x_ts_alligned = self.df_training.align(test_set, join=\"outer\", axis=1,fill_value=0)\n",
        "    return x_ts_alligned\n",
        "  def fit(self, train_set):\n",
        "    tr_set = self.one_hot_encoding(train_set)\n",
        "    self.df_training = tr_set\n",
        "    return self.df_training\n",
        "  def transform(self, test_set):\n",
        "    test_set = self.one_hot_encoding(test_set)\n",
        "    test_set = self.align(test_set)\n",
        "    return test_set"
      ],
      "metadata": {
        "id": "JkVMFhRzeYBr"
      },
      "execution_count": 98,
      "outputs": []
    },
    {
      "cell_type": "code",
      "execution_count": null,
      "metadata": {
        "id": "eZ16glfaSw3K"
      },
      "outputs": [],
      "source": [
        "# dato che però a seguito della sostituzione dei valori nan abbiamo ndarrays, \n",
        "# dobbiamo riportarci a dataframes per applicare la one hot coded technique\n",
        "pd.set_option('display.max_columns',None)\n",
        "\n",
        "encoder = MyEncoder(np.nan)\n",
        "encoded_df_tr = encoder.fit(x_tr_notnan)\n",
        "print(encoded_df_tr)\n",
        "\n",
        "encoded_df_ts = encoder.transform(x_ts_notnan)"
      ]
    },
    {
      "cell_type": "code",
      "execution_count": null,
      "metadata": {
        "id": "M7uWPVo-JsD0"
      },
      "outputs": [],
      "source": [
        "# SCALING\n",
        "print(\"Robust Scaler\")\n",
        "scaler = RobustScaler()\n",
        "x_tr_scaled = scaler.fit_transform(encoded_df_tr)\n",
        "x_ts_scaled = scaler.transform(encoded_df_ts)\n",
        "\n",
        "print(\"Media distribuzione di partenza: {}\".format(np.mean(encoded_df_tr, axis=0)))\n",
        "print(\"Media distribuzione scalata: {}\".format(np.mean(x_tr_scaled, axis=0)))\n",
        "\n",
        "print(\"Deviazione standard distribuzione di partenza: {}\".format(np.std(encoded_df_tr, axis=0)))\n",
        "print(\"Deviazione standard distribuzione scalata: {}\".format(np.std(x_tr_scaled, axis=0)))\n",
        "\n",
        "print(\"Media distribuzione di partenza: {}\".format(np.mean(encoded_df_ts, axis=0)))\n",
        "print(\"Media distribuzione scalata: {}\".format(np.mean(x_ts_scaled, axis=0)))\n",
        "\n",
        "print(\"Deviazione standard distribuzione di partenza: {}\".format(np.std(encoded_df_ts, axis=0)))\n",
        "print(\"Deviazione standard distribuzione scalata: {}\".format(np.std(x_ts_scaled, axis=0)))"
      ]
    },
    {
      "cell_type": "code",
      "source": [
        "from sklearn.ensemble import RandomForestClassifier\n",
        "#\n",
        "# Train the mode\n",
        "#\n",
        "forest = RandomForestClassifier()\n",
        "forest.fit(x_tr_scaled, y_tr.ravel())\n",
        "importances = forest.feature_importances_\n",
        "#\n",
        "# Sort the feature importance in descending order\n",
        "#\n",
        "sorted_indices = np.argsort(importances)[::-1]\n",
        "import matplotlib.pyplot as plt\n",
        " \n",
        "plt.title('Feature Importance')\n",
        "plt.bar(range(encoded_df_tr.shape[1]), importances[sorted_indices], align='center')\n",
        "plt.xticks(range(encoded_df_tr.shape[1]), encoded_df_tr.columns[sorted_indices], rotation=90)\n",
        "plt.tight_layout()\n",
        "plt.show()"
      ],
      "metadata": {
        "colab": {
          "base_uri": "https://localhost:8080/",
          "height": 297
        },
        "id": "ov2ZCikxQJ8a",
        "outputId": "9f8038c4-1b60-499f-8a77-099f39a918cc"
      },
      "execution_count": 91,
      "outputs": [
        {
          "output_type": "display_data",
          "data": {
            "text/plain": [
              "<Figure size 432x288 with 1 Axes>"
            ],
            "image/png": "[encoded data removed]"
          },
          "metadata": {
            "needs_background": "light"
          }
        }
      ]
    },
    {
      "cell_type": "code",
      "source": [
        "# SERIALIZZAZIONE PIPELINE PER LA ROUTINE DI TEST\n",
        "import pickle\n",
        "import dill\n",
        "import cloudpickle\n",
        "\n",
        "preprocessor = Pipeline(steps=[('imputer',imputer),('encoder',encoder),('scaler',scaler)])\n",
        "\n",
        "with open('preprocessor.pkl', 'wb') as out_file:\n",
        "    dill.dump(preprocessor, out_file)"
      ],
      "metadata": {
        "id": "4zwHBlq3pfUS"
      },
      "execution_count": 101,
      "outputs": []
    },
    {
      "cell_type": "code",
      "execution_count": 102,
      "metadata": {
        "id": "GTFoLnQsSn_4",
        "colab": {
          "base_uri": "https://localhost:8080/"
        },
        "outputId": "37e4c8fe-0686-46e4-b22a-81092075fb57"
      },
      "outputs": [
        {
          "output_type": "stream",
          "name": "stdout",
          "text": [
            "(24746, 42)\n",
            "(37576, 42)\n"
          ]
        }
      ],
      "source": [
        "# BALANCING: oversampling\n",
        "\n",
        "print(x_tr_scaled.shape)\n",
        "\n",
        "balancer = KMeansSMOTE(sampling_strategy=1, k_neighbors=5, kmeans_estimator=5)\n",
        "x_tr_balanced, y_tr_balanced = balancer.fit_resample(x_tr_scaled, y_tr)\n",
        "\n",
        "print(x_tr_balanced.shape)"
      ]
    },
    {
      "cell_type": "code",
      "execution_count": 103,
      "metadata": {
        "id": "2YcUIH8MQdu6",
        "colab": {
          "base_uri": "https://localhost:8080/"
        },
        "outputId": "a4bab140-bfb2-4813-bdc9-007c57842ba4"
      },
      "outputs": [
        {
          "output_type": "stream",
          "name": "stdout",
          "text": [
            "Initial distribution\n",
            "37576\n",
            "[0.7591934  0.75927423]\n",
            "(array([-1,  1]), array([ 1924, 35652]))\n",
            "Distribution after (balancing and) anomaly detection\n",
            "35652\n",
            "[0.4934646 0.5065354]\n"
          ]
        }
      ],
      "source": [
        "# ANOMALY DETECTION CON ISOLATION FOREST\n",
        "print(\"Initial distribution\")\n",
        "print(len(x_tr_balanced))\n",
        "print(np.unique(y_tr_balanced, return_counts=True)[1]/len(y_tr))\n",
        "\n",
        "anomaly_detector = IsolationForest(n_estimators = 220, bootstrap = True, random_state = 42)\n",
        "anomaly_detector.fit(x_tr_balanced)\n",
        "is_inlier = anomaly_detector.predict(x_tr_balanced)\n",
        "\n",
        "print(np.unique(is_inlier, return_counts=True))\n",
        "x_tr_not_anomalous = x_tr_balanced[is_inlier==1,:]\n",
        "y_tr_not_anomalous = y_tr_balanced[is_inlier==1]\n",
        "\n",
        "print(\"Distribution after (balancing and) anomaly detection\")\n",
        "print(len(x_tr_not_anomalous))\n",
        "print(np.unique(y_tr_not_anomalous, return_counts=True)[1]/len(y_tr_not_anomalous))"
      ]
    },
    {
      "cell_type": "code",
      "execution_count": 104,
      "metadata": {
        "id": "QlW1TnvrPSgQ",
        "colab": {
          "base_uri": "https://localhost:8080/",
          "height": 514
        },
        "outputId": "7cd5178a-d434-4398-f4bf-8c8b1e164b26"
      },
      "outputs": [
        {
          "output_type": "display_data",
          "data": {
            "text/plain": [
              "<Figure size 432x288 with 1 Axes>"
            ],
            "image/png": "[encoded data removed]"
          },
          "metadata": {}
        },
        {
          "output_type": "stream",
          "name": "stdout",
          "text": [
            "Size del dataset prima del sampler: 35652\n",
            "Size del dataset dopo il sampler: 35186\n"
          ]
        },
        {
          "output_type": "display_data",
          "data": {
            "text/plain": [
              "<Figure size 432x288 with 1 Axes>"
            ],
            "image/png": "[encoded data removed]"
          },
          "metadata": {}
        }
      ],
      "source": [
        "# BALANCING: undersampling\n",
        "\n",
        "n_classes = len(np.unique(y_tr_not_anomalous))\n",
        "fig, ax = plt.subplots()\n",
        "sizes = [len(y_tr_not_anomalous[y_tr_not_anomalous==i]) for i in range(n_classes)]\n",
        "class_names = [chr(ord('A')+i) for i in range(n_classes)]\n",
        "\n",
        "ax.pie(sizes, labels=class_names, autopct='%1.1f%%',shadow=True,startangle=90)\n",
        "ax.axis(\"equal\")\n",
        "plt.show()\n",
        "\n",
        "from imblearn.under_sampling import NearMiss\n",
        "sampler = RandomUnderSampler(sampling_strategy=1)\n",
        "x_tr_balanced2, y_tr_balanced2 = sampler.fit_resample(x_tr_not_anomalous, y_tr_not_anomalous)\n",
        "\n",
        "print(\"Size del dataset prima del sampler: {}\".format(x_tr_not_anomalous.shape[0]))\n",
        "print(\"Size del dataset dopo il sampler: {}\".format(x_tr_balanced2.shape[0]))\n",
        "\n",
        "fig, ax = plt.subplots()\n",
        "sizes = [len(y_tr_balanced2[y_tr_balanced2==i]) for i in range(n_classes)]\n",
        "class_names = [chr(ord('A')+i) for i in range(n_classes)]\n",
        "\n",
        "ax.pie(sizes, labels=class_names, autopct='%1.1f%%',shadow=True,startangle=90)\n",
        "ax.axis(\"equal\")\n",
        "plt.show()"
      ]
    },
    {
      "cell_type": "code",
      "execution_count": 30,
      "metadata": {
        "id": "Wr5i9ZUl0aZc"
      },
      "outputs": [],
      "source": [
        "def train_evaluate(model, x_tr, y_tr, x_ts, y_ts):\n",
        "  model.fit(x_tr, y_tr)\n",
        "  y_tr_pred = model.predict(x_tr)\n",
        "  y_ts_pred = model.predict(x_ts)\n",
        "  print(\"Accuracy on training set {}\".format(accuracy_score(y_tr, y_tr_pred)))\n",
        "  print(\"F1 score on training set {}\".format(f1_score(y_tr, y_tr_pred)))\n",
        "  print(confusion_matrix(y_tr, y_tr_pred))\n",
        "  print(\"Accuracy on test set {}\".format(accuracy_score(y_ts, y_ts_pred)))\n",
        "  print(\"F1 score on test set {}\".format(f1_score(y_ts, y_ts_pred)))\n",
        "  print(confusion_matrix(y_ts, y_ts_pred))"
      ]
    },
    {
      "cell_type": "code",
      "execution_count": 105,
      "metadata": {
        "colab": {
          "base_uri": "https://localhost:8080/"
        },
        "id": "fTkCvE8sFpKN",
        "outputId": "cc0b2dac-60f3-47d9-c86f-4851980de6fe"
      },
      "outputs": [
        {
          "output_type": "stream",
          "name": "stdout",
          "text": [
            "******* GradientBoostingClassifier: oversampling + anomaly\n",
            "Accuracy on training set 0.9263715920565466\n",
            "F1 score on training set 0.9258076368672451\n",
            "[[16649   944]\n",
            " [ 1681 16378]]\n",
            "Accuracy on test set 0.8746001279590531\n",
            "F1 score on test set 0.7222222222222221\n",
            "[[5561  372]\n",
            " [ 608 1274]]\n",
            "******* GradientBoostingClassifier: oversampling\n",
            "Accuracy on training set 0.9275601447732595\n",
            "F1 score on training set 0.925988362608081\n",
            "[[17826   961]\n",
            " [ 1761 17028]]\n",
            "Accuracy on test set 0.8767754318618042\n",
            "F1 score on test set 0.7266534203803577\n",
            "[[5572  361]\n",
            " [ 602 1280]]\n",
            "******* GradientBoostingClassifier: over + under\n",
            "Accuracy on training set 0.927158528960382\n",
            "F1 score on training set 0.9255655911480266\n",
            "[[16688   905]\n",
            " [ 1658 15935]]\n",
            "Accuracy on test set 0.8761356365962892\n",
            "F1 score on test set 0.7235865219874358\n",
            "[[5580  353]\n",
            " [ 615 1267]]\n"
          ]
        }
      ],
      "source": [
        "# CLASSIFICATION: METODI ENSEMBLE\n",
        "#print(\"******* RandomForestClassifier\")\n",
        "#classifier = RandomForestClassifier(max_depth=5, n_estimators=100)\n",
        "#train_evaluate(classifier, x_tr_not_anomalous, y_tr_not_anomalous, x_ts_scaled, y_ts)\n",
        "\n",
        "# i classificatori che hanno permesso di ottenere le migliori performance\n",
        "# sono stati senza dubbio gli alberi, e in particolare il gradient boosting classifier (per ora siamo a: 87,62-87,71/84)\n",
        "\n",
        "print(\"******* GradientBoostingClassifier: oversampling + anomaly\")\n",
        "classifier = GradientBoostingClassifier(max_depth=5, n_estimators=220,loss='exponential')\n",
        "train_evaluate(classifier, x_tr_not_anomalous, y_tr_not_anomalous, x_ts_scaled, y_ts)\n",
        "\n",
        "print(\"******* GradientBoostingClassifier: oversampling\")\n",
        "classifier2 = GradientBoostingClassifier(max_depth=5, n_estimators=225,loss='exponential')\n",
        "train_evaluate(classifier2, x_tr_balanced, y_tr_balanced, x_ts_scaled, y_ts)\n",
        "\n",
        "print(\"******* GradientBoostingClassifier: over + under\")\n",
        "classifier3 = GradientBoostingClassifier(max_depth=5, n_estimators=225,loss='exponential')\n",
        "train_evaluate(classifier3, x_tr_balanced2, y_tr_balanced2, x_ts_scaled, y_ts)"
      ]
    },
    {
      "cell_type": "code",
      "execution_count": 74,
      "metadata": {
        "id": "WkXM09dXPLEm",
        "colab": {
          "base_uri": "https://localhost:8080/"
        },
        "outputId": "669d14b9-4edb-4d78-ac24-9cccb9fcc027"
      },
      "outputs": [
        {
          "output_type": "execute_result",
          "data": {
            "text/plain": [
              "['classifier.joblib']"
            ]
          },
          "metadata": {},
          "execution_count": 74
        }
      ],
      "source": [
        "dump(classifier2, 'classifier.joblib') "
      ]
    }
  ],
  "metadata": {
    "colab": {
      "collapsed_sections": [],
      "name": "training_routine.ipynb",
      "provenance": [],
      "include_colab_link": true
    },
    "kernelspec": {
      "display_name": "Python 3",
      "name": "python3"
    },
    "language_info": {
      "name": "python"
    }
  },
  "nbformat": 4,
  "nbformat_minor": 0
}